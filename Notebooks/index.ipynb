{
 "cells": [
  {
   "cell_type": "markdown",
   "metadata": {},
   "source": [
    "# GPG Labs\n",
    "\n",
    "<a href=\"http://gpg.geosci.xyz\"><img src=\"http://gpg.geosci.xyz/_images/intro.png\" alt=\"http://gpg.geosci.xyz\" align=\"right\" width=\"200\"></a>\n",
    "\n",
    "This collection of notebooks covers basic principles of applied geophysics. Associated material can be found in the <a href=\"http://gpg.geosci.xyz\">GPG: Geophysics for Practicing Geoscientists</a>.\n",
    "\n",
    "\n",
    "\n",
    "If you have feedback, we would like to hear from you! \n",
    "- <a href=\"http://geosci.xyz/contact\">Contact us</a>\n",
    "- <a href=\"https://github.com/ubcgif/gpgLabs/issues\">Report issues</a>\n",
    "- <a href=\"https://github.com/ubcgif/gpgLabs/\">Join the development</a>"
   ]
  },
  {
   "cell_type": "markdown",
   "metadata": {},
   "source": [
    "## Contents\n",
    "\n",
    "### Magnetics\n",
    "- <a href=\"MagneticDipoleApplet.ipynb\">MagneticDipoleApplet.ipynb</a> - Magnetic dipole applet\n",
    "- <a href=\"MagneticPrismApplet.ipynb\">MagneticPrismApplet.ipynb</a> - Magnetic prism applet\n",
    "- <a href=\"Mag_Induced2D.ipynb\">Mag_Induced2D.ipynb</a> - Induced magnetic anomaly demo\n",
    "- <a href=\"Mag_FitProfile.ipynb\">Mag_FitProfile.ipynb</a> - Fit one magnetic profile from field observation\n",
    "\n",
    "### Seismic\n",
    "- <a href=\"SeismicApplet.ipynb\">SeismicApplet.ipynb</a> - Seismic Applet\n",
    "- <a href=\"Seis_Refraction.ipynb\">Seis_Refraction.ipynb</a> - Seismic refraction survey demo\n",
    "- <a href=\"Seis_Reflection.ipynb\">Seis_Reflection.ipynb</a> - Synthetic reflection seismogram\n",
    "- <a href=\"Seis_NMO.ipynb\">Seis_NMO.ipynb</a> - Normal moveout demo\n",
    "- <a href=\"Seis_VerticalResolution.ipynb\">Seis_VerticalResolution.ipynb</a> - Vertical resolution in reflection\n",
    "\n",
    "### Ground Penetrating Radar\n",
    "- <a href=\"GPR_TBL4_DOI_Resolution.ipynb\">GPR_TBL4_DOI_Resolution.ipynb</a> - Horizontal resolution + Probing distance of GPR\n",
    "- <a href=\"GPR_Lab6_FitData.ipynb\">GPR_Lab6_FitData.ipynb</a> - Fit field GPR data\n",
    "\n",
    "### Electromagnetics\n",
    "- <a href=\"InductionRLcircuit_Harmonic.ipynb\">InductionRLcircuit_Harmonic.ipynb</a> - Two coil app\n",
    "- <a href=\"EM_ThreeLoopModel.ipynb\">EM_ThreeLoopModel.ipynb</a> - EM induction explained by a 3-loop circuit model\n",
    "- <a href=\"EM_Pipeline.ipynb\">EM_Pipeline.ipynb</a> - EM response over a pipeline\n",
    "- <a href=\"EM_EM31.ipynb\">EM_ResponseFunction.ipynb</a> - EM-31 response and apparent conductivity\n",
    "\n",
    "### Direct Current Resistivity\n",
    "- <a href=\"DC_SurveyDataInversion.ipynb\">DC_SurveyDataInversion.ipynb</a> - Physics, survey, data and interpretation"
   ]
  },
  {
   "cell_type": "markdown",
   "metadata": {},
   "source": [
    "<center><a rel=\"license\" href=\"http://creativecommons.org/licenses/by/4.0/\"><img alt=\"Creative Commons License\" style=\"border-width:0\" width=60 src=\"https://i.creativecommons.org/l/by/4.0/88x31.png\" /></a> \n",
    "\n",
    "This work is licensed under a <a rel=\"license\" href=\"http://creativecommons.org/licenses/by/4.0/\">Creative Commons Attribution 4.0 International License</a>.</center>"
   ]
  },
  {
   "cell_type": "code",
   "execution_count": 1,
   "metadata": {},
   "outputs": [],
   "source": [
    "# !pip install git+https://github.com/geoscixyz/gpgLabs.git@master"
   ]
  }
 ],
 "metadata": {
  "anaconda-cloud": {},
  "kernelspec": {
   "display_name": "Python 3",
   "language": "python",
   "name": "python3"
  },
  "language_info": {
   "codemirror_mode": {
    "name": "ipython",
    "version": 3
   },
   "file_extension": ".py",
   "mimetype": "text/x-python",
   "name": "python",
   "nbconvert_exporter": "python",
   "pygments_lexer": "ipython3",
   "version": "3.6.6"
  }
 },
 "nbformat": 4,
 "nbformat_minor": 1
}
