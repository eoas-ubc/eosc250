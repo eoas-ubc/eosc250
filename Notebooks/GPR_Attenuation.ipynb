{
 "cells": [
  {
   "cell_type": "code",
   "execution_count": 1,
   "metadata": {
    "collapsed": true
   },
   "outputs": [],
   "source": [
    "%matplotlib inline\n",
    "from gpgLabs.GPR.Attenuation import *"
   ]
  },
  {
   "cell_type": "markdown",
   "metadata": {},
   "source": [
    "# Attenuation of EM wave"
   ]
  },
  {
   "cell_type": "markdown",
   "metadata": {},
   "source": [
    "To simplify the GPR problem, we assumed that we do not have conductivity effect. However, in practice, this is not true. For instance, the earth medium can have considerably high conductivity values. In this case, EM wave attenuates as a function of conductivity ($\\sigma$), permittivity ($\\epsilon$), and frequency ($f$). Thus, we can write velocity of EM wave as:\n",
    "\n",
    "$$ v(\\sigma, f, \\epsilon)$$\n",
    "\n",
    "In addition, electromagnetic wave, which propagates in the earth attenuates in several reasons why:\n",
    "\n",
    "- Geometric decaying\n",
    "- Electrical conductivity ($\\sigma$, S/m)\n",
    "\n",
    "To measure how much it attenuates we define skin depth as the depth at which the intensity of the radiation inside the material falls to 1/e (about 37%) of its original value. And it can be written as:\n",
    "\n",
    "$$ \\delta(\\sigma, f, \\epsilon) $$\n",
    "\n",
    "By adjusting parameters below, you will indentify how velocity and skin depth change as a function of $\\sigma$, $\\epsilon$, and $f$."
   ]
  },
  {
   "cell_type": "markdown",
   "metadata": {},
   "source": [
    "## Parameters:"
   ]
  },
  {
   "cell_type": "markdown",
   "metadata": {},
   "source": [
    "- epsr: Relative permittivity of the medium\n",
    "\n",
    "- sigma: Log10(Conductivity, S/m)\n",
    "\n",
    "You can read the value of the skin depth at 25, 100 & 1000 MHz above the graph."
   ]
  },
  {
   "cell_type": "code",
   "execution_count": 2,
   "metadata": {},
   "outputs": [
    {
     "data": {
      "application/vnd.jupyter.widget-view+json": {
       "model_id": "ac35631858f64254921bee1983a8d4bd"
      }
     },
     "metadata": {},
     "output_type": "display_data"
    },
    {
     "data": {
      "text/plain": [
       "<function gpgLabs.GPR.Attenuation.WaveVelandSkindWidgetTBL>"
      ]
     },
     "execution_count": 2,
     "metadata": {},
     "output_type": "execute_result"
    }
   ],
   "source": [
    "AttenuationWidgetTBL()"
   ]
  },
  {
   "cell_type": "code",
   "execution_count": null,
   "metadata": {
    "collapsed": true
   },
   "outputs": [],
   "source": []
  }
 ],
 "metadata": {
  "anaconda-cloud": {},
  "kernelspec": {
   "display_name": "Python 3",
   "language": "python",
   "name": "python3"
  },
  "language_info": {
   "codemirror_mode": {
    "name": "ipython",
    "version": 3
   },
   "file_extension": ".py",
   "mimetype": "text/x-python",
   "name": "python",
   "nbconvert_exporter": "python",
   "pygments_lexer": "ipython3",
   "version": "3.6.6"
  },
  "widgets": {
   "state": {
    "234b50583b3246edb24ab70aee35c4e4": {
     "views": [
      {
       "cell_index": 5
      }
     ]
    }
   },
   "version": "1.2.0"
  }
 },
 "nbformat": 4,
 "nbformat_minor": 1
}
